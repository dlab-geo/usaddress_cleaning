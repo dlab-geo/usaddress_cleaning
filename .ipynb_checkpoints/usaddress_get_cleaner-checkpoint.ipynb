{
 "cells": [
  {
   "cell_type": "markdown",
   "metadata": {},
   "source": [
    "## Clean Street component of an address\n",
    "\n",
    "This script uses the python library **usaddress** to parse the street component of an address. The script does some minor preprocessing of the address before passing input to `usaddress`.\n",
    "\n",
    "- See: https://parserator.datamade.us/usaddress\n",
    "   "
   ]
  },
  {
   "cell_type": "code",
   "execution_count": 1,
   "metadata": {
    "collapsed": true
   },
   "outputs": [],
   "source": [
    "import usaddress\n",
    "import pandas as pd\n",
    "import re\n",
    "import math\n",
    "import usaddress"
   ]
  },
  {
   "cell_type": "code",
   "execution_count": 2,
   "metadata": {},
   "outputs": [
    {
     "data": {
      "text/plain": [
       "'0.20.3'"
      ]
     },
     "execution_count": 2,
     "metadata": {},
     "output_type": "execute_result"
    }
   ],
   "source": [
    "pd.__version__"
   ]
  },
  {
   "cell_type": "code",
   "execution_count": 3,
   "metadata": {
    "collapsed": true
   },
   "outputs": [],
   "source": [
    "# Disable chained assignments\n",
    "pd.options.mode.chained_assignment = None "
   ]
  },
  {
   "cell_type": "markdown",
   "metadata": {},
   "source": [
    "## Big function to pre-clean an address and submit to `usaddress` parser."
   ]
  },
  {
   "cell_type": "code",
   "execution_count": 4,
   "metadata": {
    "collapsed": true
   },
   "outputs": [],
   "source": [
    "counter = 1  # a global to keep track of number of addresses processed\n",
    "\n",
    "def get_clean_street(address, debug=0):\n",
    "    '''\n",
    "    Function to clean and tag street address component\n",
    "    Returns a clean street address component if the input type is Street Address\n",
    "    Else returns minimally cleaned version of the input.\n",
    "    '''\n",
    "    \n",
    "    cleaning_note = \"\"\n",
    "    \n",
    "    global counter\n",
    "    if debug == 1 :\n",
    "        print(str(counter)+\" input address: \" + address)\n",
    "    \n",
    "    #add some spaces where they are missing around odd chars\n",
    "    address =  re.sub('[.\\(){}<>\\']', ' ', address)\n",
    "    if debug == 1:\n",
    "        print(\"we now have: \" + address)\n",
    "                    \n",
    "        \n",
    "    # Dashes \n",
    "    # If number-number, remove dash\n",
    "    # else leave it or replace with a space\n",
    "    if re.search(r'^\\d+-\\d+\\s+', address):\n",
    "        # EG '49-866 AVE EL RIO' where 866 is the street name \n",
    "        address = re.sub('[.-]', '', address)\n",
    "        cleaning_note = \"Removed dash in num-dash-num|\"\n",
    "        if debug == 1:\n",
    "            print(\"we removed dash in num-dash-num and now have: \" + address)\n",
    "     \n",
    "    # Now if there is a dash still replace with a space\n",
    "    #'12-23rd st' or '#5-36 Main St'\n",
    "    if re.search(r'\\-', address):\n",
    "    \n",
    "        address =  re.sub('[.-]', ' ', address)\n",
    "        cleaning_note = cleaning_note + \"Removed dash in str|\"\n",
    "        \n",
    "        if debug ==1:\n",
    "            print(\"we removed a dash in string and now have: \" + address)\n",
    "        \n",
    "    # See if there is a forward slash in the address\n",
    "    # and make sure it has spaces around it\n",
    "    # if it is not a fraction\n",
    "    if not re.search(r' \\d+/\\d+', address):\n",
    "        if debug > 0:\n",
    "            print(\"no fraction so check and fix slashes\")\n",
    "        address = re.sub('[./]', ' ', address)\n",
    "    \n",
    "    #strip leading hastags\n",
    "    address = address.lstrip(\"#\")\n",
    "    \n",
    "    # strip leading spaces\n",
    "    address = address.lstrip()\n",
    "    \n",
    "    # replace multiple spaces with one space\n",
    "    address = re.sub('\\s+',' ', address ).strip()\n",
    "    \n",
    "    if debug == 1:\n",
    "        print(\"Pre-cleaned address: \", address)\n",
    "    \n",
    "    ############################################################\n",
    "    # Tagging address with usaddress\n",
    "    ############################################################\n",
    "    \n",
    "    try:\n",
    "        tagged_address, address_type = usaddress.tag(address)\n",
    "   \n",
    "        if debug == 2 :\n",
    "            print(tagged_address)\n",
    "\n",
    "        #addr_type = tagged_addr[1]\n",
    "        cleaning_note = cleaning_note + \"|usaddressType=\" + address_type\n",
    "            \n",
    "        if debug == 1:\n",
    "            print(\"Type of tagged addresss: \" + address_type)\n",
    "            \n",
    "        if (address_type == 'Street Address'):\n",
    "            y = tagged_address #tagged_addr[0]\n",
    "\n",
    "            paddr = \"\"\n",
    "            if 'AddressNumber' in y.keys():\n",
    "                paddr = (y['AddressNumber'])\n",
    "\n",
    "            if 'StreetNamePreType' in y.keys():\n",
    "                paddr = \" \".join([paddr, y['StreetNamePreType']])\n",
    "\n",
    "            if 'StreetNamePreDirectional' in y.keys():\n",
    "                paddr = \" \".join([paddr, y[\"StreetNamePreDirectional\"]])\n",
    "\n",
    "            if 'StreetName' in y.keys():\n",
    "                paddr = \" \".join([paddr, y[\"StreetName\"]])\n",
    "\n",
    "            if 'StreetNamePostDirectional' in y.keys():\n",
    "                paddr = \" \".join([paddr, y[\"StreetNamePostDirectional\"]])\n",
    "\n",
    "            if 'StreetNamePostType' in y.keys():\n",
    "                if y[\"StreetNamePostType\"].lower() in usaddress.STREET_NAMES:\n",
    "                    paddr = \" \".join([paddr, y[\"StreetNamePostType\"]])\n",
    "\n",
    "            if 'OccupancyIdentifier' in y.keys():\n",
    "                if debug == 1:\n",
    "                    print(\"we have an occupancy id\")\n",
    "                if not 'OccupancyType' in y.keys():\n",
    "                    if debug ==1:\n",
    "                        print(\"we do not have an occ type\")\n",
    "                    paddr = \" \".join([paddr, y['OccupancyIdentifier']])\n",
    "\n",
    "            if 'PlaceName' in y.keys():\n",
    "                paddr = \" \".join([paddr, y['PlaceName']])\n",
    "\n",
    "            if paddr == \"\":\n",
    "                paddr = address # set it back to original input\n",
    "                cleaning_note = \"|parsed usaddress.tag returned no string so resetting\"\n",
    "\n",
    "        else:\n",
    "            paddr = address\n",
    "            if debug == 1:\n",
    "                print(\"Returning pre-cleaned address: \" + paddr)\n",
    "            cleaning_note = cleaning_note + \"|returning pre-cleaned address\"\n",
    "    \n",
    "    except usaddress.RepeatedLabelError as e :\n",
    "        cleaning_note = cleaning_note + \"|usaddress.RepeatedLabelError so returning pre-cleaned address\"\n",
    "        paddr = address\n",
    "        \n",
    "    if debug > 0:\n",
    "        print(\"Cleaning note: \" + cleaning_note)\n",
    "    \n",
    "    counter = counter + 1\n",
    "   \n",
    "    return paddr, cleaning_note"
   ]
  },
  {
   "cell_type": "markdown",
   "metadata": {},
   "source": [
    "## Goal - normalize Street part of the address\n",
    "#### City state and zip should be fine"
   ]
  },
  {
   "cell_type": "markdown",
   "metadata": {},
   "source": [
    "## Read in the data to be cleaned\n",
    "\n",
    "First identify one or more CSV files to process."
   ]
  },
  {
   "cell_type": "code",
   "execution_count": 37,
   "metadata": {},
   "outputs": [
    {
     "name": "stdout",
     "output_type": "stream",
     "text": [
      "Address file to be processed: ./sample_addresses.csv\n"
     ]
    }
   ],
   "source": [
    "#my_files = [\"file1\", \"file2\"]\n",
    "#my_files = [\"file1\"]\n",
    "my_files = ['sample_addresses']\n",
    "for i in my_files:\n",
    "    print(\"Address file to be processed: ./\"+ i +\".csv\")"
   ]
  },
  {
   "cell_type": "markdown",
   "metadata": {},
   "source": [
    "### Read in the file or files into one dataframe."
   ]
  },
  {
   "cell_type": "code",
   "execution_count": 38,
   "metadata": {},
   "outputs": [
    {
     "name": "stdout",
     "output_type": "stream",
     "text": [
      "Processing File:  sample_addresses.csv\n"
     ]
    }
   ],
   "source": [
    "for i in my_files:\n",
    "    in_file = i +\".csv\"\n",
    "    print(\"Processing File: \", in_file)\n",
    "    \n",
    "    # FORMAT - Update to match your data!!!\n",
    "    # Set the type of the columns so that zip codes don't get init zeros trimmed!\n",
    "    df = pd.read_csv(in_file, encoding=\"latin-1\", dtype={\"id\": str, \"address\": str, \"city\": str, 'zip': str, 'state': str})\n",
    "    "
   ]
  },
  {
   "cell_type": "code",
   "execution_count": 39,
   "metadata": {},
   "outputs": [
    {
     "data": {
      "text/plain": [
       "10"
      ]
     },
     "execution_count": 39,
     "metadata": {},
     "output_type": "execute_result"
    }
   ],
   "source": [
    "len(df.index)"
   ]
  },
  {
   "cell_type": "code",
   "execution_count": 40,
   "metadata": {},
   "outputs": [
    {
     "data": {
      "text/html": [
       "<div>\n",
       "<style>\n",
       "    .dataframe thead tr:only-child th {\n",
       "        text-align: right;\n",
       "    }\n",
       "\n",
       "    .dataframe thead th {\n",
       "        text-align: left;\n",
       "    }\n",
       "\n",
       "    .dataframe tbody tr th {\n",
       "        vertical-align: top;\n",
       "    }\n",
       "</style>\n",
       "<table border=\"1\" class=\"dataframe\">\n",
       "  <thead>\n",
       "    <tr style=\"text-align: right;\">\n",
       "      <th></th>\n",
       "      <th>id</th>\n",
       "      <th>address</th>\n",
       "      <th>city</th>\n",
       "      <th>zip</th>\n",
       "      <th>state</th>\n",
       "    </tr>\n",
       "  </thead>\n",
       "  <tbody>\n",
       "    <tr>\n",
       "      <th>0</th>\n",
       "      <td>Wah Fay Liquors</td>\n",
       "      <td>2101 eigth Ave</td>\n",
       "      <td>Oakland</td>\n",
       "      <td>94606</td>\n",
       "      <td>CA</td>\n",
       "    </tr>\n",
       "    <tr>\n",
       "      <th>1</th>\n",
       "      <td>Vision Liquor</td>\n",
       "      <td>1615 Macarthur Blvd</td>\n",
       "      <td>Oakland</td>\n",
       "      <td>94602</td>\n",
       "      <td>CA</td>\n",
       "    </tr>\n",
       "    <tr>\n",
       "      <th>2</th>\n",
       "      <td>Souza's Liquors</td>\n",
       "      <td>394 12th Apt D</td>\n",
       "      <td>Oakland</td>\n",
       "      <td>94607</td>\n",
       "      <td>CA</td>\n",
       "    </tr>\n",
       "    <tr>\n",
       "      <th>3</th>\n",
       "      <td>Tk Liquors</td>\n",
       "      <td>1500 23th Ave</td>\n",
       "      <td>Oakland</td>\n",
       "      <td>94606</td>\n",
       "      <td>CA</td>\n",
       "    </tr>\n",
       "    <tr>\n",
       "      <th>4</th>\n",
       "      <td>Quadriga Wines Inc</td>\n",
       "      <td>6193 Ridgemont Dr PO Box 1212</td>\n",
       "      <td>Oakland</td>\n",
       "      <td>94619</td>\n",
       "      <td>CA</td>\n",
       "    </tr>\n",
       "  </tbody>\n",
       "</table>\n",
       "</div>"
      ],
      "text/plain": [
       "                   id                        address     city    zip state\n",
       "0     Wah Fay Liquors                 2101 eigth Ave  Oakland  94606    CA\n",
       "1       Vision Liquor            1615 Macarthur Blvd  Oakland  94602    CA\n",
       "2     Souza's Liquors                 394 12th Apt D  Oakland  94607    CA\n",
       "3          Tk Liquors                  1500 23th Ave  Oakland  94606    CA\n",
       "4  Quadriga Wines Inc  6193 Ridgemont Dr PO Box 1212  Oakland  94619    CA"
      ]
     },
     "execution_count": 40,
     "metadata": {},
     "output_type": "execute_result"
    }
   ],
   "source": [
    "df.head()"
   ]
  },
  {
   "cell_type": "markdown",
   "metadata": {},
   "source": [
    "### Clean the Addresses with get_clean_street Function\n",
    "\n",
    "Cleans only the column with the **street** componnet of the address.\n",
    "And add two columns to the dataframe \n",
    "\n",
    "- `clean_street` which has the cleaned address (single line format) \n",
    "- `clean_notes` any notes generated by the cleaning function.\n",
    "\n",
    "*Be sure to set the correct column to be cleaned - needs to match column label in your dataframe!*"
   ]
  },
  {
   "cell_type": "code",
   "execution_count": 41,
   "metadata": {},
   "outputs": [],
   "source": [
    "df['clean_street'], df['clean_notes'] = zip(*df['address'].map(get_clean_street))"
   ]
  },
  {
   "cell_type": "code",
   "execution_count": 42,
   "metadata": {},
   "outputs": [
    {
     "data": {
      "text/html": [
       "<div>\n",
       "<style>\n",
       "    .dataframe thead tr:only-child th {\n",
       "        text-align: right;\n",
       "    }\n",
       "\n",
       "    .dataframe thead th {\n",
       "        text-align: left;\n",
       "    }\n",
       "\n",
       "    .dataframe tbody tr th {\n",
       "        vertical-align: top;\n",
       "    }\n",
       "</style>\n",
       "<table border=\"1\" class=\"dataframe\">\n",
       "  <thead>\n",
       "    <tr style=\"text-align: right;\">\n",
       "      <th></th>\n",
       "      <th>id</th>\n",
       "      <th>address</th>\n",
       "      <th>city</th>\n",
       "      <th>zip</th>\n",
       "      <th>state</th>\n",
       "      <th>clean_street</th>\n",
       "      <th>clean_notes</th>\n",
       "    </tr>\n",
       "  </thead>\n",
       "  <tbody>\n",
       "    <tr>\n",
       "      <th>0</th>\n",
       "      <td>Wah Fay Liquors</td>\n",
       "      <td>2101 eigth Ave</td>\n",
       "      <td>Oakland</td>\n",
       "      <td>94606</td>\n",
       "      <td>CA</td>\n",
       "      <td>2101 eigth Ave</td>\n",
       "      <td>|usaddressType=Street Address</td>\n",
       "    </tr>\n",
       "    <tr>\n",
       "      <th>1</th>\n",
       "      <td>Vision Liquor</td>\n",
       "      <td>1615 Macarthur Blvd</td>\n",
       "      <td>Oakland</td>\n",
       "      <td>94602</td>\n",
       "      <td>CA</td>\n",
       "      <td>1615 Macarthur Blvd</td>\n",
       "      <td>|usaddressType=Street Address</td>\n",
       "    </tr>\n",
       "    <tr>\n",
       "      <th>2</th>\n",
       "      <td>Souza's Liquors</td>\n",
       "      <td>394 12th Apt D</td>\n",
       "      <td>Oakland</td>\n",
       "      <td>94607</td>\n",
       "      <td>CA</td>\n",
       "      <td>394 12th</td>\n",
       "      <td>|usaddressType=Street Address</td>\n",
       "    </tr>\n",
       "    <tr>\n",
       "      <th>3</th>\n",
       "      <td>Tk Liquors</td>\n",
       "      <td>1500 23th Ave</td>\n",
       "      <td>Oakland</td>\n",
       "      <td>94606</td>\n",
       "      <td>CA</td>\n",
       "      <td>1500 23th Ave</td>\n",
       "      <td>|usaddressType=Street Address</td>\n",
       "    </tr>\n",
       "    <tr>\n",
       "      <th>4</th>\n",
       "      <td>Quadriga Wines Inc</td>\n",
       "      <td>6193 Ridgemont Dr PO Box 1212</td>\n",
       "      <td>Oakland</td>\n",
       "      <td>94619</td>\n",
       "      <td>CA</td>\n",
       "      <td>6193 Ridgemont Dr</td>\n",
       "      <td>|usaddressType=Street Address</td>\n",
       "    </tr>\n",
       "    <tr>\n",
       "      <th>5</th>\n",
       "      <td>Bev Mo</td>\n",
       "      <td>525 W. Embarcadero</td>\n",
       "      <td>Oakland</td>\n",
       "      <td>94607</td>\n",
       "      <td>CA</td>\n",
       "      <td>525 W Embarcadero</td>\n",
       "      <td>|usaddressType=Street Address</td>\n",
       "    </tr>\n",
       "    <tr>\n",
       "      <th>6</th>\n",
       "      <td>Fairfax Liquor</td>\n",
       "      <td>5403 Foothill Blvd</td>\n",
       "      <td>Oakland</td>\n",
       "      <td>94601</td>\n",
       "      <td>CA</td>\n",
       "      <td>5403 Foothill Blvd</td>\n",
       "      <td>|usaddressType=Street Address</td>\n",
       "    </tr>\n",
       "    <tr>\n",
       "      <th>7</th>\n",
       "      <td>Saleen Market</td>\n",
       "      <td>1200 78th Ave</td>\n",
       "      <td>Oakland</td>\n",
       "      <td>94621</td>\n",
       "      <td>CA</td>\n",
       "      <td>1200 78th Ave</td>\n",
       "      <td>|usaddressType=Street Address</td>\n",
       "    </tr>\n",
       "    <tr>\n",
       "      <th>8</th>\n",
       "      <td>Park Liquors</td>\n",
       "      <td>828 Franklin Street</td>\n",
       "      <td>Oakland</td>\n",
       "      <td>94607</td>\n",
       "      <td>CA</td>\n",
       "      <td>828 Franklin Street</td>\n",
       "      <td>|usaddressType=Street Address</td>\n",
       "    </tr>\n",
       "    <tr>\n",
       "      <th>9</th>\n",
       "      <td>Los Camellos</td>\n",
       "      <td>5913 International Blvd</td>\n",
       "      <td>Oakland</td>\n",
       "      <td>94621</td>\n",
       "      <td>CA</td>\n",
       "      <td>5913 International Blvd</td>\n",
       "      <td>|usaddressType=Street Address</td>\n",
       "    </tr>\n",
       "  </tbody>\n",
       "</table>\n",
       "</div>"
      ],
      "text/plain": [
       "                   id                        address     city    zip state  \\\n",
       "0     Wah Fay Liquors                 2101 eigth Ave  Oakland  94606    CA   \n",
       "1       Vision Liquor            1615 Macarthur Blvd  Oakland  94602    CA   \n",
       "2     Souza's Liquors                 394 12th Apt D  Oakland  94607    CA   \n",
       "3          Tk Liquors                  1500 23th Ave  Oakland  94606    CA   \n",
       "4  Quadriga Wines Inc  6193 Ridgemont Dr PO Box 1212  Oakland  94619    CA   \n",
       "5              Bev Mo             525 W. Embarcadero  Oakland  94607    CA   \n",
       "6      Fairfax Liquor             5403 Foothill Blvd  Oakland  94601    CA   \n",
       "7       Saleen Market                  1200 78th Ave  Oakland  94621    CA   \n",
       "8        Park Liquors            828 Franklin Street  Oakland  94607    CA   \n",
       "9        Los Camellos        5913 International Blvd  Oakland  94621    CA   \n",
       "\n",
       "              clean_street                    clean_notes  \n",
       "0           2101 eigth Ave  |usaddressType=Street Address  \n",
       "1      1615 Macarthur Blvd  |usaddressType=Street Address  \n",
       "2                 394 12th  |usaddressType=Street Address  \n",
       "3            1500 23th Ave  |usaddressType=Street Address  \n",
       "4        6193 Ridgemont Dr  |usaddressType=Street Address  \n",
       "5        525 W Embarcadero  |usaddressType=Street Address  \n",
       "6       5403 Foothill Blvd  |usaddressType=Street Address  \n",
       "7            1200 78th Ave  |usaddressType=Street Address  \n",
       "8      828 Franklin Street  |usaddressType=Street Address  \n",
       "9  5913 International Blvd  |usaddressType=Street Address  "
      ]
     },
     "execution_count": 42,
     "metadata": {},
     "output_type": "execute_result"
    }
   ],
   "source": [
    "df.head(10)"
   ]
  },
  {
   "cell_type": "code",
   "execution_count": 25,
   "metadata": {},
   "outputs": [],
   "source": [
    "# Sort the output which will make geocoding faster\n",
    "# UPDATE TO MATCH COLUMN NAMES IN YOUR DATA\n",
    "df.sort_values(by=['city', 'zip'], inplace=True)\n"
   ]
  },
  {
   "cell_type": "markdown",
   "metadata": {},
   "source": [
    "### Save output to file\n",
    "\n",
    "Assumes a subfolder called `cleaned`.\n"
   ]
  },
  {
   "cell_type": "code",
   "execution_count": null,
   "metadata": {
    "collapsed": true
   },
   "outputs": [],
   "source": [
    "# Write to csv for geocoding\n",
    "out_file = \"./cleaned/\"+ i +\"_cleaned.csv\"\n",
    "df.to_csv(out_file, index=False)"
   ]
  },
  {
   "cell_type": "code",
   "execution_count": null,
   "metadata": {
    "collapsed": true
   },
   "outputs": [],
   "source": [
    "df.head()"
   ]
  },
  {
   "cell_type": "code",
   "execution_count": null,
   "metadata": {
    "collapsed": true
   },
   "outputs": [],
   "source": [
    "!ls ./cleaned"
   ]
  },
  {
   "cell_type": "code",
   "execution_count": null,
   "metadata": {
    "collapsed": true
   },
   "outputs": [],
   "source": [
    "!wc -l ../*.csv"
   ]
  },
  {
   "cell_type": "markdown",
   "metadata": {
    "collapsed": true
   },
   "source": [
    "### DONE"
   ]
  },
  {
   "cell_type": "markdown",
   "metadata": {},
   "source": [
    "---\n",
    "Created by Patty Frontiera, UC Berkeley\n",
    "Last updated Dec 19, 2018"
   ]
  },
  {
   "cell_type": "code",
   "execution_count": null,
   "metadata": {
    "collapsed": true
   },
   "outputs": [],
   "source": []
  }
 ],
 "metadata": {
  "kernelspec": {
   "display_name": "Python 3",
   "language": "python",
   "name": "python3"
  },
  "language_info": {
   "codemirror_mode": {
    "name": "ipython",
    "version": 3
   },
   "file_extension": ".py",
   "mimetype": "text/x-python",
   "name": "python",
   "nbconvert_exporter": "python",
   "pygments_lexer": "ipython3",
   "version": "3.6.3"
  }
 },
 "nbformat": 4,
 "nbformat_minor": 2
}
